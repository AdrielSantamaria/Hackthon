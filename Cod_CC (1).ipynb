{
 "cells": [
  {
   "cell_type": "code",
   "execution_count": 1,
   "id": "dd2dabfb-c37f-4246-9da5-dcf58728dc5c",
   "metadata": {},
   "outputs": [],
   "source": [
    "# Importing standard Qiskit libraries\n",
    "from qiskit import QuantumCircuit, transpile\n",
    "from qiskit.tools.jupyter import *\n",
    "from qiskit.visualization import *\n",
    "from ibm_quantum_widgets import *\n",
    "from qiskit_aer import AerSimulator\n",
    "\n",
    "from qiskit_ibm_runtime import QiskitRuntimeService #, Sampler, Estimator, Session, Options\n",
    "\n",
    "# Loading your IBM Quantum account(s)\n",
    "service = QiskitRuntimeService(channel=\"ibm_quantum\")\n",
    "\n",
    "import networkx as nx\n",
    "import matplotlib.pyplot as plt\n",
    "import matplotlib.axes as axes\n",
    "import numpy as np\n",
    "\n",
    "from qiskit_optimization.algorithms import MinimumEigenOptimizer\n",
    "from qiskit.algorithms.minimum_eigensolvers import QAOA\n",
    "from qiskit_ibm_runtime import Sampler as SamplerRT\n",
    "from qiskit_ibm_runtime import Session\n",
    "\n",
    "from qiskit.algorithms.optimizers import COBYLA\n",
    "\n",
    "from qiskit import *\n",
    "from qiskit.visualization import plot_histogram\n",
    "import numpy as np\n",
    "from qiskit_optimization.applications import Tsp\n",
    "\n",
    "from qiskit.algorithms.minimum_eigensolvers import QAOA\n",
    "from qiskit.algorithms.optimizers import COBYLA\n",
    "\n",
    "from qiskit.primitives import Sampler"
   ]
  },
  {
   "cell_type": "code",
   "execution_count": 2,
   "id": "67daffee-b6fc-4b46-94d4-680fe647849d",
   "metadata": {
    "tags": []
   },
   "outputs": [
    {
     "name": "stdout",
     "output_type": "stream",
     "text": [
      "Requirement already satisfied: qiskit_ibm_provider in /opt/conda/lib/python3.10/site-packages (0.6.3)\n",
      "Requirement already satisfied: websockets>=10.0 in /opt/conda/lib/python3.10/site-packages (from qiskit_ibm_provider) (10.4)\n",
      "Requirement already satisfied: urllib3>=1.21.1 in /opt/conda/lib/python3.10/site-packages (from qiskit_ibm_provider) (1.26.13)\n",
      "Requirement already satisfied: requests-ntlm>=1.1.0 in /opt/conda/lib/python3.10/site-packages (from qiskit_ibm_provider) (1.1.0)\n",
      "Requirement already satisfied: typing-extensions>=4.3 in /opt/conda/lib/python3.10/site-packages (from qiskit_ibm_provider) (4.4.0)\n",
      "Requirement already satisfied: numpy>=1.13 in /opt/conda/lib/python3.10/site-packages (from qiskit_ibm_provider) (1.23.5)\n",
      "Requirement already satisfied: websocket-client>=1.5.1 in /opt/conda/lib/python3.10/site-packages (from qiskit_ibm_provider) (1.5.3)\n",
      "Requirement already satisfied: requests>=2.19 in /opt/conda/lib/python3.10/site-packages (from qiskit_ibm_provider) (2.28.1)\n",
      "Requirement already satisfied: python-dateutil>=2.8.0 in /opt/conda/lib/python3.10/site-packages (from qiskit_ibm_provider) (2.8.2)\n",
      "Requirement already satisfied: qiskit-terra>=0.25.0 in /opt/conda/lib/python3.10/site-packages (from qiskit_ibm_provider) (0.25.0)\n",
      "Requirement already satisfied: six>=1.5 in /opt/conda/lib/python3.10/site-packages (from python-dateutil>=2.8.0->qiskit_ibm_provider) (1.16.0)\n",
      "Requirement already satisfied: scipy>=1.5 in /opt/conda/lib/python3.10/site-packages (from qiskit-terra>=0.25.0->qiskit_ibm_provider) (1.9.3)\n",
      "Requirement already satisfied: rustworkx>=0.13.0 in /opt/conda/lib/python3.10/site-packages (from qiskit-terra>=0.25.0->qiskit_ibm_provider) (0.13.0)\n",
      "Requirement already satisfied: psutil>=5 in /opt/conda/lib/python3.10/site-packages (from qiskit-terra>=0.25.0->qiskit_ibm_provider) (5.9.4)\n",
      "Requirement already satisfied: sympy>=1.3 in /opt/conda/lib/python3.10/site-packages (from qiskit-terra>=0.25.0->qiskit_ibm_provider) (1.11.1)\n",
      "Requirement already satisfied: stevedore>=3.0.0 in /opt/conda/lib/python3.10/site-packages (from qiskit-terra>=0.25.0->qiskit_ibm_provider) (4.1.1)\n",
      "Requirement already satisfied: dill>=0.3 in /opt/conda/lib/python3.10/site-packages (from qiskit-terra>=0.25.0->qiskit_ibm_provider) (0.3.7)\n",
      "Requirement already satisfied: ply>=3.10 in /opt/conda/lib/python3.10/site-packages (from qiskit-terra>=0.25.0->qiskit_ibm_provider) (3.11)\n",
      "Requirement already satisfied: symengine<0.10,>=0.9 in /opt/conda/lib/python3.10/site-packages (from qiskit-terra>=0.25.0->qiskit_ibm_provider) (0.9.2)\n",
      "Requirement already satisfied: certifi>=2017.4.17 in /opt/conda/lib/python3.10/site-packages (from requests>=2.19->qiskit_ibm_provider) (2022.9.24)\n",
      "Requirement already satisfied: idna<4,>=2.5 in /opt/conda/lib/python3.10/site-packages (from requests>=2.19->qiskit_ibm_provider) (3.4)\n",
      "Requirement already satisfied: charset-normalizer<3,>=2 in /opt/conda/lib/python3.10/site-packages (from requests>=2.19->qiskit_ibm_provider) (2.1.1)\n",
      "Requirement already satisfied: cryptography>=1.3 in /opt/conda/lib/python3.10/site-packages (from requests-ntlm>=1.1.0->qiskit_ibm_provider) (40.0.2)\n",
      "Requirement already satisfied: ntlm-auth>=1.0.2 in /opt/conda/lib/python3.10/site-packages (from requests-ntlm>=1.1.0->qiskit_ibm_provider) (1.5.0)\n",
      "Requirement already satisfied: cffi>=1.12 in /opt/conda/lib/python3.10/site-packages (from cryptography>=1.3->requests-ntlm>=1.1.0->qiskit_ibm_provider) (1.15.1)\n",
      "Requirement already satisfied: pbr!=2.1.0,>=2.0.0 in /opt/conda/lib/python3.10/site-packages (from stevedore>=3.0.0->qiskit-terra>=0.25.0->qiskit_ibm_provider) (5.11.1)\n",
      "Requirement already satisfied: mpmath>=0.19 in /opt/conda/lib/python3.10/site-packages (from sympy>=1.3->qiskit-terra>=0.25.0->qiskit_ibm_provider) (1.2.1)\n",
      "Requirement already satisfied: pycparser in /opt/conda/lib/python3.10/site-packages (from cffi>=1.12->cryptography>=1.3->requests-ntlm>=1.1.0->qiskit_ibm_provider) (2.21)\n",
      "\n",
      "\u001b[1m[\u001b[0m\u001b[34;49mnotice\u001b[0m\u001b[1;39;49m]\u001b[0m\u001b[39;49m A new release of pip available: \u001b[0m\u001b[31;49m23.1.1\u001b[0m\u001b[39;49m -> \u001b[0m\u001b[32;49m23.2.1\u001b[0m\n",
      "\u001b[1m[\u001b[0m\u001b[34;49mnotice\u001b[0m\u001b[1;39;49m]\u001b[0m\u001b[39;49m To update, run: \u001b[0m\u001b[32;49mpip install --upgrade pip\u001b[0m\n",
      "Note: you may need to restart the kernel to use updated packages.\n"
     ]
    }
   ],
   "source": [
    "pip install qiskit_ibm_provider"
   ]
  },
  {
   "cell_type": "code",
   "execution_count": 3,
   "id": "cf8e2136-5dc3-4799-97b7-1aff96f57175",
   "metadata": {
    "tags": []
   },
   "outputs": [
    {
     "name": "stderr",
     "output_type": "stream",
     "text": [
      "/tmp/ipykernel_2889/485379158.py:1: DeprecationWarning: The qiskit.IBMQ entrypoint and the qiskit-ibmq-provider package (accessible from 'qiskit.providers.ibmq`) are deprecated and will be removed in a future release. Instead you should use the qiskit-ibm-provider package which is accessible from 'qiskit_ibm_provider'. You can install it with 'pip install qiskit_ibm_provider'. Just replace 'qiskit.IBMQ' with 'qiskit_ibm_provider.IBMProvider'\n",
      "  IBMQ.load_account()\n"
     ]
    },
    {
     "data": {
      "text/plain": [
       "<AccountProvider for IBMQ(hub='ibm-q', group='open', project='main')>"
      ]
     },
     "execution_count": 3,
     "metadata": {},
     "output_type": "execute_result"
    }
   ],
   "source": [
    "IBMQ.load_account()"
   ]
  },
  {
   "cell_type": "code",
   "execution_count": 4,
   "id": "6e4759a1-fdea-4436-b189-eae92430201f",
   "metadata": {
    "tags": []
   },
   "outputs": [
    {
     "data": {
      "text/plain": [
       "[<AccountProvider for IBMQ(hub='ibm-q', group='open', project='main')>]"
      ]
     },
     "execution_count": 4,
     "metadata": {},
     "output_type": "execute_result"
    }
   ],
   "source": [
    "IBMQ.providers()"
   ]
  },
  {
   "cell_type": "code",
   "execution_count": 5,
   "id": "6a3f3ef5-3536-4753-97bc-7ee928b54660",
   "metadata": {
    "tags": []
   },
   "outputs": [
    {
     "data": {
      "text/plain": [
       "[<IBMQSimulator('ibmq_qasm_simulator') from IBMQ(hub='ibm-q', group='open', project='main')>,\n",
       " <IBMQBackend('ibmq_lima') from IBMQ(hub='ibm-q', group='open', project='main')>,\n",
       " <IBMQBackend('ibmq_belem') from IBMQ(hub='ibm-q', group='open', project='main')>,\n",
       " <IBMQBackend('ibmq_quito') from IBMQ(hub='ibm-q', group='open', project='main')>,\n",
       " <IBMQSimulator('simulator_statevector') from IBMQ(hub='ibm-q', group='open', project='main')>,\n",
       " <IBMQSimulator('simulator_mps') from IBMQ(hub='ibm-q', group='open', project='main')>,\n",
       " <IBMQSimulator('simulator_extended_stabilizer') from IBMQ(hub='ibm-q', group='open', project='main')>,\n",
       " <IBMQSimulator('simulator_stabilizer') from IBMQ(hub='ibm-q', group='open', project='main')>,\n",
       " <IBMQBackend('ibmq_jakarta') from IBMQ(hub='ibm-q', group='open', project='main')>,\n",
       " <IBMQBackend('ibmq_manila') from IBMQ(hub='ibm-q', group='open', project='main')>,\n",
       " <IBMQBackend('ibm_lagos') from IBMQ(hub='ibm-q', group='open', project='main')>,\n",
       " <IBMQBackend('ibm_nairobi') from IBMQ(hub='ibm-q', group='open', project='main')>,\n",
       " <IBMQBackend('ibm_perth') from IBMQ(hub='ibm-q', group='open', project='main')>]"
      ]
     },
     "execution_count": 5,
     "metadata": {},
     "output_type": "execute_result"
    }
   ],
   "source": [
    "provider = IBMQ.get_provider('ibm-q')\n",
    "provider.backends()"
   ]
  },
  {
   "cell_type": "code",
   "execution_count": 6,
   "id": "1a9adc4b-17a9-4ccc-b14b-179e463f7740",
   "metadata": {
    "tags": []
   },
   "outputs": [
    {
     "data": {
      "text/plain": [
       "[<IBMQBackend('ibmq_lima') from IBMQ(hub='ibm-q', group='open', project='main')>,\n",
       " <IBMQBackend('ibmq_belem') from IBMQ(hub='ibm-q', group='open', project='main')>,\n",
       " <IBMQBackend('ibmq_quito') from IBMQ(hub='ibm-q', group='open', project='main')>,\n",
       " <IBMQBackend('ibmq_jakarta') from IBMQ(hub='ibm-q', group='open', project='main')>,\n",
       " <IBMQBackend('ibmq_manila') from IBMQ(hub='ibm-q', group='open', project='main')>,\n",
       " <IBMQBackend('ibm_lagos') from IBMQ(hub='ibm-q', group='open', project='main')>,\n",
       " <IBMQBackend('ibm_nairobi') from IBMQ(hub='ibm-q', group='open', project='main')>,\n",
       " <IBMQBackend('ibm_perth') from IBMQ(hub='ibm-q', group='open', project='main')>]"
      ]
     },
     "execution_count": 6,
     "metadata": {},
     "output_type": "execute_result"
    }
   ],
   "source": [
    "backends = provider.backends(filters = lambda x:x.configuration().n_qubits >= 2 and not x.configuration().simulator\n",
    "                             and x.status().operational==True)\n",
    "backends"
   ]
  },
  {
   "cell_type": "code",
   "execution_count": 7,
   "id": "e94159f8-f015-4a48-9d03-f3d26c997091",
   "metadata": {
    "tags": []
   },
   "outputs": [
    {
     "data": {
      "text/plain": [
       "'ibmq_belem'"
      ]
     },
     "execution_count": 7,
     "metadata": {},
     "output_type": "execute_result"
    }
   ],
   "source": [
    "from qiskit.providers.ibmq import least_busy\n",
    "backend = least_busy(provider.backends(filters=lambda x: x.configuration().n_qubits >= 2 and not\n",
    "                                         x.configuration().simulator and x.status().operational==True))\n",
    "backend.name()"
   ]
  },
  {
   "cell_type": "code",
   "execution_count": 8,
   "id": "df98c338-f904-4e84-992d-9c3f2beff530",
   "metadata": {
    "tags": []
   },
   "outputs": [],
   "source": [
    "backend = provider.get_backend('ibmq_belem')"
   ]
  },
  {
   "cell_type": "code",
   "execution_count": 9,
   "id": "91733950-8641-4003-bb0c-dcd7fac81c6a",
   "metadata": {
    "tags": []
   },
   "outputs": [],
   "source": [
    "def draw_graph(G, colors, pos):\n",
    "    default_axes = plt.axes()\n",
    "    nx.draw_networkx(G, node_color=colors, node_size=600, ax=default_axes, pos=pos)\n",
    "    edge_labels = nx.get_edge_attributes(G, 'weight')\n",
    "    nx.draw_networkx_edge_labels(G, pos=pos, edge_labels=edge_labels)\n",
    "    \n",
    "def draw_tsp_solution(G, order, colors, pos):\n",
    "    G2 = nx.DiGraph()\n",
    "    G2.add_nodes_from(G)\n",
    "    n = len(order)\n",
    "    for i in range(n):\n",
    "        j = (i + 1) % n\n",
    "        G2.add_edge(order[i], order[j], weight=G[order[i]][order[j]]['weight'])\n",
    "    default_axes = plt.axes(frameon=True)\n",
    "    nx.draw_networkx(G2, node_color=colors, edge_color='b', node_size=600, alpha=.8, ax=default_axes, pos=pos)\n",
    "    edge_labels = nx.get_edge_attributes(G2, 'weight')\n",
    "    nx.draw_networkx_edge_labels(G2, pos, font_color='b', edge_labels=edge_labels)\n",
    "\n",
    "def qaoa_callback(count, params, mean, metadata):\n",
    "    if count % 10 == 0:\n",
    "        print('Iteration:', count, ', value:', mean)\n"
   ]
  },
  {
   "cell_type": "code",
   "execution_count": 10,
   "id": "ac94918e-742d-4c83-a614-ce1d274dfb63",
   "metadata": {
    "tags": []
   },
   "outputs": [
    {
     "name": "stdout",
     "output_type": "stream",
     "text": [
      "distance\n",
      " [[ 0. 10. 23. 12. 34.]\n",
      " [10.  0. 14. 41. 23.]\n",
      " [23. 14.  0.  6. 18.]\n",
      " [12. 41.  6.  0. 12.]\n",
      " [34. 23. 18. 12.  0.]]\n"
     ]
    },
    {
     "data": {
      "image/png": "[encoded data removed]",
      "text/plain": [
       "<Figure size 640x480 with 1 Axes>"
      ]
     },
     "metadata": {},
     "output_type": "display_data"
    }
   ],
   "source": [
    "import math as mth\n",
    "n = 5\n",
    "G = nx.Graph()\n",
    "G.add_nodes_from(np.arange(0,n,1))\n",
    "\n",
    "\n",
    "#elist = [(0,1,3*mth.sqrt(61)), (0,2,13*mth.sqrt(5)), (0,3,25*mth.sqrt(2)),(0,4,47.42362281), (1,2,5.6381),(1,3,11.9246), (1,4,23.9929), (2,3,6.2865),(2,4,18.3547), (3,4,12.0683)]\n",
    "elist = [(0,1,10), (0,2,23), (0,3,12),(0,4,34), (1,2,14),(1,3,41), (1,4,23), (2,3,6),(2,4,18), (3,4,12)]\n",
    "#Belist= [(0,1,16.5529), (0,2,32.33910), (0,3,40.3113),(0,4,48.8774), (1,2,15.7580),(1,3,23.7583), (1,4,32.3245), (2,3,8.003),(2,4,16.5664), (3,4,8.5661)]\n",
    "#Celist = [(0,1,11.1803), (0,2,24.4131), (0,3,31.6228),(0,4,40.3113), (1,2,13.2328),(1,3,20.4424), (1,4,29.1309), (2,3,7.2097),(2,4,15.8982), (3,4,8.6885)]\n",
    "#Delist = [(0,1,15.2971), (0,2,20.0998), (0,3,25.9615),(0,4,35.1283), (1,2,4.8027),(1,3,10.6645), (1,4,19.8313), (2,3,5.8618),(2,4,15.0286), (3,4,9.1668)]\n",
    "#Eelist = [(0,1,15.5242), (0,2,20.2237), (0,3,32.2490),(0,4,41.2311), (1,2,4.6996),(1,3,16.7249), (1,4,25.7069), (2,3,12.0253), (2,4,21.0073), (3,4,8.9820)]\n",
    "#Felist = [(0,1,22.0227), (0,2,28.2843), (0,3,36.1248),(0,4,46.0977), (1,2,6.2616),(1,3,14.1021), (1,4,24.0750), (2,3,7.8405),(2,4,17.8135), (3,4,9.9729)]\n",
    "#Gelist = [(0,1,14.8661), (0,2,30.8707), (0,3,39.1152),(0,4,46.1411), (1,2,16.0046),(1,3,24.2491), (1,4,31.2750), (2,3,8.2445),(2,4,15.2704), (3,4,7.0259)]\n",
    "#Helist = [(0,1,11.1803), (0,2,25), (0,3,31.0161),(0,4,40.3113), (1,2,13.8197),(1,3,19.8358), (1,4,29.1309), (2,3,6.0161),(2,4,15.3113), (3,4,9.2952)]\n",
    "#Ielist = [(0,1,13.6015), (0,2,20.0998), (0,3,24.7386),(0,4,33.3766), (1,2,6.4982),(1,3,11.1372), (1,4,19.7752), (2,3,4.6389),(2,4,13.2769), (3,4,8.6380)]\n",
    "#Jelist = [(0,1,15.5242), (0,2,20.8806), (0,3,31.1448),(0,4,41.2311), (1,2,5.3564),(1,3,15.6206), (1,4,25.7069), (2,3,10.2642),(2,4,20.3504), (3,4,10.0862)]\n",
    "\n",
    "G.add_weighted_edges_from(elist)\n",
    "\n",
    "adj_matrix = nx.to_numpy_array(G)\n",
    "print('distance\\n', adj_matrix)\n",
    "\n",
    "# Plot the graph\n",
    "colors = ['pink' for node in G.nodes()]\n",
    "pos = nx.spring_layout(G)\n",
    "draw_graph(G, colors, pos)"
   ]
  },
  {
   "cell_type": "code",
   "execution_count": 11,
   "id": "55187304-faf7-4f22-b6b0-34403d68ede0",
   "metadata": {
    "tags": []
   },
   "outputs": [
    {
     "name": "stdout",
     "output_type": "stream",
     "text": [
      "Problem name: TSP\n",
      "\n",
      "Minimize\n",
      "  10*x_0_0*x_1_1 + 10*x_0_0*x_1_4 + 23*x_0_0*x_2_1 + 23*x_0_0*x_2_4\n",
      "  + 12*x_0_0*x_3_1 + 12*x_0_0*x_3_4 + 34*x_0_0*x_4_1 + 34*x_0_0*x_4_4\n",
      "  + 10*x_0_1*x_1_0 + 10*x_0_1*x_1_2 + 23*x_0_1*x_2_0 + 23*x_0_1*x_2_2\n",
      "  + 12*x_0_1*x_3_0 + 12*x_0_1*x_3_2 + 34*x_0_1*x_4_0 + 34*x_0_1*x_4_2\n",
      "  + 10*x_0_2*x_1_1 + 10*x_0_2*x_1_3 + 23*x_0_2*x_2_1 + 23*x_0_2*x_2_3\n",
      "  + 12*x_0_2*x_3_1 + 12*x_0_2*x_3_3 + 34*x_0_2*x_4_1 + 34*x_0_2*x_4_3\n",
      "  + 10*x_0_3*x_1_2 + 10*x_0_3*x_1_4 + 23*x_0_3*x_2_2 + 23*x_0_3*x_2_4\n",
      "  + 12*x_0_3*x_3_2 + 12*x_0_3*x_3_4 + 34*x_0_3*x_4_2 + 34*x_0_3*x_4_4\n",
      "  + 10*x_0_4*x_1_0 + 10*x_0_4*x_1_3 + 23*x_0_4*x_2_0 + 23*x_0_4*x_2_3\n",
      "  + 12*x_0_4*x_3_0 + 12*x_0_4*x_3_3 + 34*x_0_4*x_4_0 + 34*x_0_4*x_4_3\n",
      "  + 14*x_1_0*x_2_1 + 14*x_1_0*x_2_4 + 41*x_1_0*x_3_1 + 41*x_1_0*x_3_4\n",
      "  + 23*x_1_0*x_4_1 + 23*x_1_0*x_4_4 + 14*x_1_1*x_2_0 + 14*x_1_1*x_2_2\n",
      "  + 41*x_1_1*x_3_0 + 41*x_1_1*x_3_2 + 23*x_1_1*x_4_0 + 23*x_1_1*x_4_2\n",
      "  + 14*x_1_2*x_2_1 + 14*x_1_2*x_2_3 + 41*x_1_2*x_3_1 + 41*x_1_2*x_3_3\n",
      "  + 23*x_1_2*x_4_1 + 23*x_1_2*x_4_3 + 14*x_1_3*x_2_2 + 14*x_1_3*x_2_4\n",
      "  + 41*x_1_3*x_3_2 + 41*x_1_3*x_3_4 + 23*x_1_3*x_4_2 + 23*x_1_3*x_4_4\n",
      "  + 14*x_1_4*x_2_0 + 14*x_1_4*x_2_3 + 41*x_1_4*x_3_0 + 41*x_1_4*x_3_3\n",
      "  + 23*x_1_4*x_4_0 + 23*x_1_4*x_4_3 + 6*x_2_0*x_3_1 + 6*x_2_0*x_3_4\n",
      "  + 18*x_2_0*x_4_1 + 18*x_2_0*x_4_4 + 6*x_2_1*x_3_0 + 6*x_2_1*x_3_2\n",
      "  + 18*x_2_1*x_4_0 + 18*x_2_1*x_4_2 + 6*x_2_2*x_3_1 + 6*x_2_2*x_3_3\n",
      "  + 18*x_2_2*x_4_1 + 18*x_2_2*x_4_3 + 6*x_2_3*x_3_2 + 6*x_2_3*x_3_4\n",
      "  + 18*x_2_3*x_4_2 + 18*x_2_3*x_4_4 + 6*x_2_4*x_3_0 + 6*x_2_4*x_3_3\n",
      "  + 18*x_2_4*x_4_0 + 18*x_2_4*x_4_3 + 12*x_3_0*x_4_1 + 12*x_3_0*x_4_4\n",
      "  + 12*x_3_1*x_4_0 + 12*x_3_1*x_4_2 + 12*x_3_2*x_4_1 + 12*x_3_2*x_4_3\n",
      "  + 12*x_3_3*x_4_2 + 12*x_3_3*x_4_4 + 12*x_3_4*x_4_0 + 12*x_3_4*x_4_3\n",
      "\n",
      "Subject to\n",
      "  Linear constraints (10)\n",
      "    x_0_0 + x_0_1 + x_0_2 + x_0_3 + x_0_4 == 1  'c0'\n",
      "    x_1_0 + x_1_1 + x_1_2 + x_1_3 + x_1_4 == 1  'c1'\n",
      "    x_2_0 + x_2_1 + x_2_2 + x_2_3 + x_2_4 == 1  'c2'\n",
      "    x_3_0 + x_3_1 + x_3_2 + x_3_3 + x_3_4 == 1  'c3'\n",
      "    x_4_0 + x_4_1 + x_4_2 + x_4_3 + x_4_4 == 1  'c4'\n",
      "    x_0_0 + x_1_0 + x_2_0 + x_3_0 + x_4_0 == 1  'c5'\n",
      "    x_0_1 + x_1_1 + x_2_1 + x_3_1 + x_4_1 == 1  'c6'\n",
      "    x_0_2 + x_1_2 + x_2_2 + x_3_2 + x_4_2 == 1  'c7'\n",
      "    x_0_3 + x_1_3 + x_2_3 + x_3_3 + x_4_3 == 1  'c8'\n",
      "    x_0_4 + x_1_4 + x_2_4 + x_3_4 + x_4_4 == 1  'c9'\n",
      "\n",
      "  Binary variables (25)\n",
      "    x_0_0 x_0_1 x_0_2 x_0_3 x_0_4 x_1_0 x_1_1 x_1_2 x_1_3 x_1_4 x_2_0 x_2_1\n",
      "    x_2_2 x_2_3 x_2_4 x_3_0 x_3_1 x_3_2 x_3_3 x_3_4 x_4_0 x_4_1 x_4_2 x_4_3\n",
      "    x_4_4\n",
      "\n"
     ]
    }
   ],
   "source": [
    "H=Tsp(G)\n",
    "qp = H.to_quadratic_program()\n",
    "print(qp.prettyprint())"
   ]
  },
  {
   "cell_type": "code",
   "execution_count": 12,
   "id": "5f23f436-d807-437c-bdd2-e53975ec778d",
   "metadata": {
    "tags": []
   },
   "outputs": [
    {
     "data": {
      "application/vnd.jupyter.widget-view+json": {
       "model_id": "28b22430602a4858aaafbec9632e6a4e",
       "version_major": 2,
       "version_minor": 0
      },
      "text/plain": [
       "VBox(children=(HTML(value=\"<h1 style='color:#ffffff;background-color:#000000;padding-top: 1%;padding-bottom: 1…"
      ]
     },
     "metadata": {},
     "output_type": "display_data"
    },
    {
     "data": {
      "text/plain": [
       "<IBMQBackend('ibmq_belem') from IBMQ(hub='ibm-q', group='open', project='main')>"
      ]
     },
     "execution_count": 12,
     "metadata": {},
     "output_type": "execute_result"
    }
   ],
   "source": [
    "backend"
   ]
  },
  {
   "cell_type": "code",
   "execution_count": 13,
   "id": "990be7ec-30a6-4848-987e-ad27ec372dcd",
   "metadata": {
    "tags": []
   },
   "outputs": [],
   "source": [
    "qaoa = QAOA(sampler=Sampler(), optimizer=COBYLA(maxiter=100), callback=qaoa_callback)\n",
    "qaoa_meo = MinimumEigenOptimizer(qaoa)"
   ]
  },
  {
   "cell_type": "code",
   "execution_count": 20,
   "id": "571407f9-25bf-4429-871d-3aad13af68ef",
   "metadata": {
    "tags": []
   },
   "outputs": [
    {
     "name": "stdout",
     "output_type": "stream",
     "text": [
      "Traceback \u001b[1;36m(most recent call last)\u001b[0m:\n",
      "\u001b[0m  Cell \u001b[0;32mIn[20], line 18\u001b[0m\n",
      "    transpiled_circuit = transpile(qaoa, backend=backend)\u001b[0m\n",
      "\u001b[0m  File \u001b[0;32m/opt/conda/lib/python3.10/site-packages/qiskit/compiler/transpiler.py:331\u001b[0m in \u001b[0;35mtranspile\u001b[0m\n",
      "    output_name = _parse_output_name(output_name, circuits)\u001b[0m\n",
      "\u001b[0m  File \u001b[0;32m/opt/conda/lib/python3.10/site-packages/qiskit/compiler/transpiler.py:586\u001b[0m in \u001b[0;35m_parse_output_name\u001b[0m\n",
      "    return [circuit.name for circuit in circuits]\u001b[0m\n",
      "\u001b[1;36m  File \u001b[1;32m/opt/conda/lib/python3.10/site-packages/qiskit/compiler/transpiler.py:586\u001b[1;36m in \u001b[1;35m<listcomp>\u001b[1;36m\n",
      "\u001b[1;33m    return [circuit.name for circuit in circuits]\u001b[1;36m\n",
      "\u001b[1;31mAttributeError\u001b[0m\u001b[1;31m:\u001b[0m 'QAOA' object has no attribute 'name'\n",
      "\n",
      "Use %tb to get the full traceback.\n"
     ]
    },
    {
     "data": {
      "text/html": [
       "\n",
       "<style>\n",
       ".button {\n",
       "  border: none;\n",
       "  color: white;\n",
       "  padding: 4px 8px;\n",
       "  text-align: center;\n",
       "  text-decoration: none;\n",
       "  display: inline-block;\n",
       "  font-size: 12px;\n",
       "  margin: 4px 2px;\n",
       "  transition-duration: 0.2s;\n",
       "  cursor: pointer;\n",
       "}\n",
       ".iqx-button {\n",
       "  background-color: #0f62fe; \n",
       "  color: white; \n",
       "}\n",
       ".iqx-button:hover {\n",
       "  background-color: #0043ce;\n",
       "  color: white;\n",
       "}\n",
       "</style>\n",
       "<a href=\"https://stackoverflow.com/search?q=AttributeError: 'QAOA' object has no attribute 'name'\" target='_blank'><button class='button iqx-button'>Search for solution online</button></a>\n"
      ],
      "text/plain": [
       "<IPython.core.display.HTML object>"
      ]
     },
     "metadata": {},
     "output_type": "display_data"
    }
   ],
   "source": [
    "from qiskit.tools.monitor import job_monitor\n",
    "from qiskit import QuantumCircuit, transpile, execute\n",
    "\n",
    "# ... (código anterior) ...\n",
    "\n",
    "# Seleccionar la computadora cuántica ibmq_belem\n",
    "backend = provider.get_backend('ibmq_qasm_simulator')\n",
    "\n",
    "#qaoa_result = qaoa_meo.solve(qp)\n",
    "\n",
    "# Enviar el trabajo a la computadora cuántica\n",
    "#job = execute(qp, backend=backend)\n",
    "\n",
    "# Define tu circuito QAOA para resolver el problema QP\n",
    "#qaoa_circuit = QuantumCircuit(2)  # Define tu circuito aquí\n",
    "\n",
    "# Transpila el circuito para el backend seleccionado\n",
    "transpiled_circuit = transpile(qaoa, backend=backend)\n",
    "\n",
    "# Ejecuta el circuito en la computadora cuántica\n",
    "job = execute(transpiled_circuit, backend=backend)\n",
    "\n",
    "# Esperar a que se complete el trabajo\n",
    "job_result = job.result()\n",
    "\n",
    "# Obtener los resultados\n",
    "results = job_result.get_counts()\n",
    "\n",
    "# Imprimir los resultados\n",
    "print(results)"
   ]
  },
  {
   "cell_type": "code",
   "execution_count": null,
   "id": "b780bb35-21a3-4241-b28e-f03274e873bd",
   "metadata": {
    "tags": []
   },
   "outputs": [],
   "source": [
    "qaoa_result = qaoa_meo.solve(qp)\n",
    "print(qaoa_result)"
   ]
  },
  {
   "cell_type": "code",
   "execution_count": null,
   "id": "dab00a70-28c2-4c9a-bb09-bf08b713dd34",
   "metadata": {},
   "outputs": [],
   "source": [
    "z = H.interpret(qaoa_result.x)\n",
    "print('solution:', z)\n",
    "print('solution objective:', H.tsp_value(z, adj_matrix))"
   ]
  },
  {
   "cell_type": "code",
   "execution_count": null,
   "id": "034cae1e-61aa-4c34-aece-c59b2262e6d6",
   "metadata": {
    "tags": []
   },
   "outputs": [],
   "source": [
    "draw_tsp_solution(tsp.graph, z, colors, pos)"
   ]
  }
 ],
 "metadata": {
  "kernelspec": {
   "display_name": "Python 3 (ipykernel)",
   "language": "python",
   "name": "python3"
  },
  "language_info": {
   "codemirror_mode": {
    "name": "ipython",
    "version": 3
   },
   "file_extension": ".py",
   "mimetype": "text/x-python",
   "name": "python",
   "nbconvert_exporter": "python",
   "pygments_lexer": "ipython3",
   "version": "3.10.8"
  },
  "widgets": {
   "application/vnd.jupyter.widget-state+json": {
    "state": {
     "031fc842a01b448ca4250e5fd72b0454": {
      "model_module": "@jupyter-widgets/controls",
      "model_module_version": "2.0.0",
      "model_name": "HTMLModel",
      "state": {
       "layout": "IPY_MODEL_b53a12e9c1354eb19ae5c72e4589dbd2",
       "style": "IPY_MODEL_cb993ccacbd04c5e8d56a781a2683f11",
       "value": "<p style='font-family: IBM Plex Sans, Arial, Helvetica, sans-serif; font-size: 20px; font-weight: medium;'>Circuit Properties</p>"
      }
     },
     "03e66b2525c14ede8ceeb0c93d8f5a82": {
      "model_module": "@jupyter-widgets/controls",
      "model_module_version": "2.0.0",
      "model_name": "TabModel",
      "state": {
       "children": [
        "IPY_MODEL_108d8c3a558a4968938ed1b29a7f9f91",
        "IPY_MODEL_7cb85d5ca1e24c0e838b0bad84162eb5",
        "IPY_MODEL_e6c62de6b36f4bca963643a7f6da2488",
        "IPY_MODEL_f227519f2a874fa198ede492dd9f83ae",
        "IPY_MODEL_a3842893d3264a1a8960b617436cf362"
       ],
       "layout": "IPY_MODEL_5e15a32b3f764b1689641d93ceea707e",
       "selected_index": 0,
       "titles": [
        "Configuration",
        "Qubit Properties",
        "Multi-Qubit Gates",
        "Error Map",
        "Job History"
       ]
      }
     },
     "0a033b995eee4be395900637162743e7": {
      "model_module": "@jupyter-widgets/base",
      "model_module_version": "2.0.0",
      "model_name": "LayoutModel",
      "state": {}
     },
     "0a5accd914d2413e92e8b91f615f82ae": {
      "model_module": "@jupyter-widgets/controls",
      "model_module_version": "2.0.0",
      "model_name": "HTMLModel",
      "state": {
       "layout": "IPY_MODEL_4455012be3044a368132e1f9b8a4ee4e",
       "style": "IPY_MODEL_5e2930073f994de499cb542aae8121f2",
       "value": "<font style='color:#34BC6E'>DONE</font>"
      }
     },
     "0c4c6d76c1ce428aa4f259163aab4aea": {
      "model_module": "@jupyter-widgets/controls",
      "model_module_version": "2.0.0",
      "model_name": "ButtonModel",
      "state": {
       "icon": "close",
       "layout": "IPY_MODEL_a26926aeecf44a27908626b30fa99add",
       "style": "IPY_MODEL_f804fed4a8b34b8d95f77f139cd4d00f",
       "tooltip": null
      }
     },
     "0f3c11e8cd454c708bf868864ab6d3d0": {
      "model_module": "@jupyter-widgets/controls",
      "model_module_version": "2.0.0",
      "model_name": "HTMLModel",
      "state": {
       "layout": "IPY_MODEL_2457a2f71c1f4d0595fda9cab1ccb5c6",
       "style": "IPY_MODEL_e19e346e4c6a49fb93e5bbc9d3e4a2e2",
       "value": "ck28c7h4fd8h6bo6hvk0"
      }
     },
     "0fce123fa778407db44282b4fa1f3a10": {
      "model_module": "@jupyter-widgets/controls",
      "model_module_version": "2.0.0",
      "model_name": "HTMLMathModel",
      "state": {
       "layout": "IPY_MODEL_69a1c59f33c24a2eb7bc14d4c9afb1f6",
       "style": "IPY_MODEL_8abfe8eee8034459b30f93b0e252e942",
       "value": "<table><style>\ntable {\n    border-collapse: collapse;\n    width: auto;\n}\n\nth, td {\n    text-align: left;\n    padding: 8px;\n}\n\ntr:nth-child(even) {background-color: #f6f6f6;}\n</style><tr><th>Property</th><th>Value</th></tr><tr><td><font style='font-weight:bold'>n_qubits</font></td><td>5</td></tr><tr><td><font style='font-weight:bold'>quantum_volume</font></td><td>16</td></tr><tr><td><font style='font-weight:bold'>operational</font></td><td>True</td></tr><tr><td><font style='font-weight:bold'>status_msg</font></td><td>active</td></tr><tr><td><font style='font-weight:bold'>pending_jobs</font></td><td>317</td></tr><tr><td><font style='font-weight:bold'>backend_version</font></td><td>1.2.12</td></tr><tr><td><font style='font-weight:bold'>basis_gates</font></td><td>['id', 'rz', 'sx', 'x', 'cx', 'reset']</td></tr><tr><td><font style='font-weight:bold'>max_shots</font></td><td>20000</td></tr><tr><td><font style='font-weight:bold'>max_experiments</font></td><td>100</td></tr></table>"
      }
     },
     "108d8c3a558a4968938ed1b29a7f9f91": {
      "model_module": "@jupyter-widgets/controls",
      "model_module_version": "2.0.0",
      "model_name": "GridBoxModel",
      "state": {
       "children": [
        "IPY_MODEL_0fce123fa778407db44282b4fa1f3a10",
        "IPY_MODEL_a91b119ec3c64793b2f6e06f93fc073a",
        "IPY_MODEL_401c73732f5a4ec3a8f4dbb7b3cd50b7"
       ],
       "layout": "IPY_MODEL_b430b4e46b81419cbfe0856daaa9adde"
      }
     },
     "11621d3c562a42daa2d812a57f10c231": {
      "model_module": "@jupyter-widgets/controls",
      "model_module_version": "2.0.0",
      "model_name": "HTMLModel",
      "state": {
       "layout": "IPY_MODEL_aa9119dc682e49d48ccca52e29ab9238",
       "style": "IPY_MODEL_7d6123f5ee8d4ea0a68e95c4f44e0b41",
       "value": "<table><style>\ntable {\n    border-collapse: collapse;\n    width: auto;\n}\n\nth, td {\n    text-align: left;\n    padding: 8px;\n}\n\ntr:nth-child(even) {background-color: #f6f6f6;};\n</style><tr><th></th><th>Type</th><th>Gate error</th></tr><tr><td><font style='font-weight:bold'>cx1_0</font></td><td>cx</td><td>0.01753</td></tr><tr><td><font style='font-weight:bold'>cx0_1</font></td><td>cx</td><td>0.01753</td></tr></table>"
      }
     },
     "141c9a1d38b54683b0bee6c1284db614": {
      "model_module": "@jupyter-widgets/controls",
      "model_module_version": "2.0.0",
      "model_name": "HTMLModel",
      "state": {
       "layout": "IPY_MODEL_650bd01f92d64fcb8a3564ff9da34e8b",
       "style": "IPY_MODEL_696ea6aeb3a041a3b379466cd3276588",
       "value": "<div><font style='font-weight:bold'>last_update_date</font>: 2023-09-15 04:18:11+00:00</div>"
      }
     },
     "15e71fdf3fe846d8a3c0a6819455d1ad": {
      "model_module": "@jupyter-widgets/base",
      "model_module_version": "2.0.0",
      "model_name": "LayoutModel",
      "state": {
       "width": "145px"
      }
     },
     "1d84994ff34d4cc8a6ee79da72a6ef7f": {
      "model_module": "@jupyter-widgets/controls",
      "model_module_version": "2.0.0",
      "model_name": "HTMLModel",
      "state": {
       "layout": "IPY_MODEL_d33a9b0f4ec14135b30b1a4a2a34c318",
       "style": "IPY_MODEL_d33e879da5dd4b32890615a76bc29973",
       "value": "ibmq_qasm_simulator"
      }
     },
     "212dfc5ef876412180a20b9fc72362b7": {
      "model_module": "@jupyter-widgets/base",
      "model_module_version": "2.0.0",
      "model_name": "LayoutModel",
      "state": {
       "max_height": "620px"
      }
     },
     "2457a2f71c1f4d0595fda9cab1ccb5c6": {
      "model_module": "@jupyter-widgets/base",
      "model_module_version": "2.0.0",
      "model_name": "LayoutModel",
      "state": {
       "width": "190px"
      }
     },
     "28b22430602a4858aaafbec9632e6a4e": {
      "model_module": "@jupyter-widgets/controls",
      "model_module_version": "2.0.0",
      "model_name": "VBoxModel",
      "state": {
       "children": [
        "IPY_MODEL_447ec34b32064d9eb71747c014e84720",
        "IPY_MODEL_03e66b2525c14ede8ceeb0c93d8f5a82"
       ],
       "layout": "IPY_MODEL_e6c2fbece9d64acfa0c612cefacc5740"
      }
     },
     "29b3e88fba51434c8ce06eeda6cbba8e": {
      "model_module": "@jupyter-widgets/controls",
      "model_module_version": "2.0.0",
      "model_name": "HTMLModel",
      "state": {
       "layout": "IPY_MODEL_b43d8afe4f3148c6b89c3a852431a1ad",
       "style": "IPY_MODEL_48710eec4520436e9038bfe52f701439",
       "value": "<h5>Message</h5>"
      }
     },
     "2c1a0b5433ef497ab5cee91dd55dc334": {
      "model_module": "@jupyter-widgets/controls",
      "model_module_version": "2.0.0",
      "model_name": "HBoxModel",
      "state": {
       "children": [
        "IPY_MODEL_9797be99458548fdbc8811e7b5368c2e",
        "IPY_MODEL_c4cb529a8aa14258b198085a0155e781",
        "IPY_MODEL_f5e43b58c73d4507a87516dc04604ec6",
        "IPY_MODEL_c4fe9078e1e84dc7800cd88f5d189fdf",
        "IPY_MODEL_29b3e88fba51434c8ce06eeda6cbba8e"
       ],
       "layout": "IPY_MODEL_7710a5be7882497a9f9c6872fa3fbd5f"
      }
     },
     "314f0a7c4a3a4a63b3c2794913e72ef4": {
      "model_module": "@jupyter-widgets/controls",
      "model_module_version": "2.0.0",
      "model_name": "HTMLMathStyleModel",
      "state": {
       "description_width": "",
       "font_size": null,
       "text_color": null
      }
     },
     "335b05cba0554c12a09664f7e50697a4": {
      "model_module": "@jupyter-widgets/controls",
      "model_module_version": "2.0.0",
      "model_name": "HTMLStyleModel",
      "state": {
       "description_width": "",
       "font_size": null,
       "text_color": null
      }
     },
     "356c0cd3a89242f48fb384a6ef701525": {
      "model_module": "@jupyter-widgets/controls",
      "model_module_version": "2.0.0",
      "model_name": "HBoxModel",
      "state": {
       "children": [
        "IPY_MODEL_0c4c6d76c1ce428aa4f259163aab4aea",
        "IPY_MODEL_562246c808b44bc391ca8f269fd1b96d",
        "IPY_MODEL_d55e592ac27343c291090e3fc6e16253",
        "IPY_MODEL_5d1df263bc4f432b981231c5bc000070",
        "IPY_MODEL_485e64e3c4f547a7bae87d7f46bb3796",
        "IPY_MODEL_9271c6771d194f5bb97f0bd3b7078c4e"
       ],
       "layout": "IPY_MODEL_84dae469a0584edf95119c2522575836"
      }
     },
     "401c73732f5a4ec3a8f4dbb7b3cd50b7": {
      "model_module": "@jupyter-widgets/controls",
      "model_module_version": "2.0.0",
      "model_name": "HTMLMathModel",
      "state": {
       "layout": "IPY_MODEL_cd6293b78d5744d29d5ea794c91e164c",
       "style": "IPY_MODEL_314f0a7c4a3a4a63b3c2794913e72ef4",
       "value": "<table><style>\ntable {\n    border-collapse: collapse;\n    width: auto;\n}\n\nth, td {\n    text-align: left;\n    padding: 8px;\n}\n\ntr:nth-child(even) {background-color: #f6f6f6;}\n</style><tr><th></th><th></th></tr><tr><td>multi_meas_enabled</td><td>True</td></tr><tr><td>conditional</td><td>False</td></tr><tr><td>allow_q_object</td><td>True</td></tr><tr><td>u_channel_lo</td><td>[[{'q': 1, 'scale': (1+0j)}], [{'q': 0, 'scale': (1+0j)}], [{'q': 2, 'scale': (1+0j)}], [{'q': 3, 'scale': (1+0j)}], [{'q': 1, 'scale': (1+0j)}], [{'q': 1, 'scale': (1+0j)}], [{'q': 4, 'scale': (1+0j)}], [{'q': 3, 'scale': (1+0j)}]]</td></tr><tr><td>meas_levels</td><td>[1, 2]</td></tr><tr><td>qubit_channel_mapping</td><td>[['m0', 'd0', 'u1', 'u0'], ['u1', 'u4', 'u5', 'u2', 'm1', 'u3', 'u0', 'd1'], ['m2', 'd2', 'u2', 'u4'], ['u5', 'd3', 'u7', 'm3', 'u6', 'u3'], ['u6', 'u7', 'm4', 'd4']]</td></tr><tr><td>allow_object_storage</td><td>True</td></tr><tr><td>url</td><td>None</td></tr><tr><td>dtm</td><td>0.2222222222222222</td></tr><tr><td>pulse_num_qubits</td><td>3</td></tr><tr><td>live_data</td><td>False</td></tr><tr><td>parametric_pulses</td><td>['gaussian', 'gaussian_square', 'gaussian_square_drag', 'drag', 'constant']</td></tr><tr><td>n_uchannels</td><td>8</td></tr><tr><td>n_registers</td><td>1</td></tr><tr><td>memory</td><td>True</td></tr><tr><td>coupling_map</td><td>[[0, 1], [1, 0], [1, 2], [1, 3], [2, 1], [3, 1], [3, 4], [4, 3]]</td></tr><tr><td>meas_kernels</td><td>['hw_boxcar']</td></tr><tr><td>online_date</td><td>2021-01-08 05:00:00+00:00</td></tr><tr><td>hamiltonian</td><td>$$\\begin{align} \\mathcal{H}/\\hbar = & \\sum_{i=0}^{4}\\left(\\frac{\\omega_{q,i}}{2}(\\mathbb{I}-\\sigma_i^{z})+\\frac{\\Delta_{i}}{2}(O_i^2-O_i)+\\Omega_{d,i}D_i(t)\\sigma_i^{X}\\right) \\\\ & + J_{0,1}(\\sigma_{0}^{+}\\sigma_{1}^{-}+\\sigma_{0}^{-}\\sigma_{1}^{+}) + J_{1,2}(\\sigma_{1}^{+}\\sigma_{2}^{-}+\\sigma_{1}^{-}\\sigma_{2}^{+}) + J_{1,3}(\\sigma_{1}^{+}\\sigma_{3}^{-}+\\sigma_{1}^{-}\\sigma_{3}^{+}) + J_{3,4}(\\sigma_{3}^{+}\\sigma_{4}^{-}+\\sigma_{3}^{-}\\sigma_{4}^{+}) \\\\ & + \\Omega_{d,0}(U_{0}^{(0,1)}(t))\\sigma_{0}^{X} + \\Omega_{d,1}(U_{1}^{(1,0)}(t)+U_{3}^{(1,3)}(t)+U_{2}^{(1,2)}(t))\\sigma_{1}^{X} \\\\ & + \\Omega_{d,2}(U_{4}^{(2,1)}(t))\\sigma_{2}^{X} + \\Omega_{d,3}(U_{6}^{(3,4)}(t)+U_{5}^{(3,1)}(t))\\sigma_{3}^{X} \\\\ & + \\Omega_{d,4}(U_{7}^{(4,3)}(t))\\sigma_{4}^{X} \\\\ \\end{align}$$</td></tr><tr><td>timing_constraints</td><td>{'acquire_alignment': 16, 'granularity': 16, 'min_length': 64, 'pulse_alignment': 1}</td></tr><tr><td>meas_map</td><td>[[0, 1, 2, 3, 4]]</td></tr><tr><td>conditional_latency</td><td>[]</td></tr><tr><td>dynamic_reprate_enabled</td><td>True</td></tr><tr><td>parallel_compilation</td><td>False</td></tr><tr><td>uchannels_enabled</td><td>True</td></tr><tr><td>discriminators</td><td>['quadratic_discriminator', 'linear_discriminator', 'hw_centroid']</td></tr><tr><td>acquisition_latency</td><td>[]</td></tr><tr><td>open_pulse</td><td>False</td></tr><tr><td>simulator</td><td>False</td></tr><tr><td>description</td><td>5 qubit device Belem</td></tr><tr><td>dt</td><td>0.2222222222222222</td></tr><tr><td>supported_features</td><td>['qobj']</td></tr><tr><td>measure_esp_enabled</td><td>False</td></tr><tr><td>processor_type</td><td>{'family': 'Falcon', 'revision': 4, 'segment': 'T'}</td></tr><tr><td>pulse_num_channels</td><td>9</td></tr><tr><td>rep_delay_range</td><td>[0.0, 500.0]</td></tr><tr><td>sample_name</td><td>family: Falcon, revision: 4, segment: T</td></tr><tr><td>channels</td><td>{'acquire0': {'operates': {'qubits': [0]}, 'purpose': 'acquire', 'type': 'acquire'}, 'acquire1': {'operates': {'qubits': [1]}, 'purpose': 'acquire', 'type': 'acquire'}, 'acquire2': {'operates': {'qubits': [2]}, 'purpose': 'acquire', 'type': 'acquire'}, 'acquire3': {'operates': {'qubits': [3]}, 'purpose': 'acquire', 'type': 'acquire'}, 'acquire4': {'operates': {'qubits': [4]}, 'purpose': 'acquire', 'type': 'acquire'}, 'd0': {'operates': {'qubits': [0]}, 'purpose': 'drive', 'type': 'drive'}, 'd1': {'operates': {'qubits': [1]}, 'purpose': 'drive', 'type': 'drive'}, 'd2': {'operates': {'qubits': [2]}, 'purpose': 'drive', 'type': 'drive'}, 'd3': {'operates': {'qubits': [3]}, 'purpose': 'drive', 'type': 'drive'}, 'd4': {'operates': {'qubits': [4]}, 'purpose': 'drive', 'type': 'drive'}, 'm0': {'operates': {'qubits': [0]}, 'purpose': 'measure', 'type': 'measure'}, 'm1': {'operates': {'qubits': [1]}, 'purpose': 'measure', 'type': 'measure'}, 'm2': {'operates': {'qubits': [2]}, 'purpose': 'measure', 'type': 'measure'}, 'm3': {'operates': {'qubits': [3]}, 'purpose': 'measure', 'type': 'measure'}, 'm4': {'operates': {'qubits': [4]}, 'purpose': 'measure', 'type': 'measure'}, 'u0': {'operates': {'qubits': [0, 1]}, 'purpose': 'cross-resonance', 'type': 'control'}, 'u1': {'operates': {'qubits': [1, 0]}, 'purpose': 'cross-resonance', 'type': 'control'}, 'u2': {'operates': {'qubits': [1, 2]}, 'purpose': 'cross-resonance', 'type': 'control'}, 'u3': {'operates': {'qubits': [1, 3]}, 'purpose': 'cross-resonance', 'type': 'control'}, 'u4': {'operates': {'qubits': [2, 1]}, 'purpose': 'cross-resonance', 'type': 'control'}, 'u5': {'operates': {'qubits': [3, 1]}, 'purpose': 'cross-resonance', 'type': 'control'}, 'u6': {'operates': {'qubits': [3, 4]}, 'purpose': 'cross-resonance', 'type': 'control'}, 'u7': {'operates': {'qubits': [4, 3]}, 'purpose': 'cross-resonance', 'type': 'control'}}</td></tr><tr><td>rep_times</td><td>[1000.0]</td></tr><tr><td>local</td><td>False</td></tr><tr><td>credits_required</td><td>True</td></tr><tr><td>backend_name</td><td>ibmq_belem</td></tr><tr><td>default_rep_delay</td><td>250.0</td></tr><tr><td>qubit_lo_range</td><td>[[4.590229272247422, 5.590229272247422], [4.745535103465487, 5.745535103465487], [4.861487300809752, 5.861487300809752], [4.670330440775674, 5.670330440775674], [4.758466622825019, 5.758466622825019]]</td></tr><tr><td>meas_lo_range</td><td>[[6.801574705, 7.801574705], [6.8934333720000005, 7.8934333720000005], [6.860104974, 7.860104974], [6.8033823270000005, 7.8033823270000005], [6.926223338000001, 7.926223338000001]]</td></tr><tr><td>clops</td><td>2454</td></tr><tr><td>supported_instructions</td><td>['cx', 'id', 'delay', 'measure', 'reset', 'rz', 'sx', 'x']</td></tr><tr><td>input_allowed</td><td>['job', 'runtime']</td></tr></table>"
      }
     },
     "4291fe5872ab45f0916e517d6c043f7f": {
      "model_module": "@jupyter-widgets/base",
      "model_module_version": "2.0.0",
      "model_name": "LayoutModel",
      "state": {
       "width": "95px"
      }
     },
     "4455012be3044a368132e1f9b8a4ee4e": {
      "model_module": "@jupyter-widgets/base",
      "model_module_version": "2.0.0",
      "model_name": "LayoutModel",
      "state": {
       "width": "95px"
      }
     },
     "447ec34b32064d9eb71747c014e84720": {
      "model_module": "@jupyter-widgets/controls",
      "model_module_version": "2.0.0",
      "model_name": "HTMLModel",
      "state": {
       "layout": "IPY_MODEL_61e5fff052ba4115aed45462f10e0f58",
       "style": "IPY_MODEL_fb42fd8905da48ddad5c9449868510ec",
       "value": "<h1 style='color:#ffffff;background-color:#000000;padding-top: 1%;padding-bottom: 1%;padding-left: 1%; margin-top: 0px'>ibmq_belem</h1>"
      }
     },
     "485e64e3c4f547a7bae87d7f46bb3796": {
      "model_module": "@jupyter-widgets/controls",
      "model_module_version": "2.0.0",
      "model_name": "HTMLModel",
      "state": {
       "layout": "IPY_MODEL_7a9daec8e81646b8aa127ae88a17f099",
       "style": "IPY_MODEL_efc13b6dc528402a868ccc8c0e1533be",
       "value": "-"
      }
     },
     "48710eec4520436e9038bfe52f701439": {
      "model_module": "@jupyter-widgets/controls",
      "model_module_version": "2.0.0",
      "model_name": "HTMLStyleModel",
      "state": {
       "description_width": "",
       "font_size": null,
       "text_color": null
      }
     },
     "4898c9a5f0a24cea8621f75e55840b47": {
      "model_module": "@jupyter-widgets/controls",
      "model_module_version": "2.0.0",
      "model_name": "HBoxModel",
      "state": {
       "children": [
        "IPY_MODEL_7af7213d5dd04afb96af953b997f8ced",
        "IPY_MODEL_0f3c11e8cd454c708bf868864ab6d3d0",
        "IPY_MODEL_1d84994ff34d4cc8a6ee79da72a6ef7f",
        "IPY_MODEL_0a5accd914d2413e92e8b91f615f82ae",
        "IPY_MODEL_b8ef9b8d3240413a9281b51d255c886c",
        "IPY_MODEL_634a69020ea1448ba842982fa05563d9"
       ],
       "layout": "IPY_MODEL_a90bd2e70d9f444aaace5b5c16e67b23"
      }
     },
     "4d58cb2ae9d1472a85ebd5c147836853": {
      "model_module": "@jupyter-widgets/controls",
      "model_module_version": "2.0.0",
      "model_name": "GridBoxModel",
      "state": {
       "children": [
        "IPY_MODEL_8497c8bc8c0b4398bb5ce976cf48d885"
       ],
       "layout": "IPY_MODEL_90f898df0c7446828119a56ac8f130db"
      }
     },
     "4fedb67922db437c8fbee5579d2aae81": {
      "model_module": "@jupyter-widgets/controls",
      "model_module_version": "2.0.0",
      "model_name": "HTMLStyleModel",
      "state": {
       "description_width": "",
       "font_size": null,
       "text_color": null
      }
     },
     "50f49d26f1454ecfa625fc13632a92a9": {
      "model_module": "@jupyter-widgets/controls",
      "model_module_version": "2.0.0",
      "model_name": "HTMLStyleModel",
      "state": {
       "description_width": "",
       "font_size": null,
       "text_color": null
      }
     },
     "562246c808b44bc391ca8f269fd1b96d": {
      "model_module": "@jupyter-widgets/controls",
      "model_module_version": "2.0.0",
      "model_name": "HTMLModel",
      "state": {
       "layout": "IPY_MODEL_c0174f9738c34a58bec3cd2c8f96b954",
       "style": "IPY_MODEL_b3c462e27ec84cb79f57ba624b227689",
       "value": "ck28eaalnssf0d7m2530"
      }
     },
     "5d1df263bc4f432b981231c5bc000070": {
      "model_module": "@jupyter-widgets/controls",
      "model_module_version": "2.0.0",
      "model_name": "HTMLModel",
      "state": {
       "layout": "IPY_MODEL_7dd3dec819404d5aadaf29c67f64e5f7",
       "style": "IPY_MODEL_50f49d26f1454ecfa625fc13632a92a9",
       "value": "<font style='color:#34BC6E'>DONE</font>"
      }
     },
     "5e15a32b3f764b1689641d93ceea707e": {
      "model_module": "@jupyter-widgets/base",
      "model_module_version": "2.0.0",
      "model_name": "LayoutModel",
      "state": {}
     },
     "5e2930073f994de499cb542aae8121f2": {
      "model_module": "@jupyter-widgets/controls",
      "model_module_version": "2.0.0",
      "model_name": "HTMLStyleModel",
      "state": {
       "description_width": "",
       "font_size": null,
       "text_color": null
      }
     },
     "60b515cc3dd340cf8fc3cd2064462c83": {
      "model_module": "@jupyter-widgets/base",
      "model_module_version": "2.0.0",
      "model_name": "LayoutModel",
      "state": {
       "width": "70px"
      }
     },
     "61e5fff052ba4115aed45462f10e0f58": {
      "model_module": "@jupyter-widgets/base",
      "model_module_version": "2.0.0",
      "model_name": "LayoutModel",
      "state": {
       "margin": "0px 0px 0px 0px"
      }
     },
     "634a69020ea1448ba842982fa05563d9": {
      "model_module": "@jupyter-widgets/controls",
      "model_module_version": "2.0.0",
      "model_name": "HTMLModel",
      "state": {
       "layout": "IPY_MODEL_0a033b995eee4be395900637162743e7",
       "style": "IPY_MODEL_335b05cba0554c12a09664f7e50697a4",
       "value": "job has successfully run"
      }
     },
     "634e0a7f99334da98a04c20c48667f53": {
      "model_module": "@jupyter-widgets/controls",
      "model_module_version": "2.0.0",
      "model_name": "HTMLStyleModel",
      "state": {
       "description_width": "",
       "font_size": null,
       "text_color": null
      }
     },
     "650bd01f92d64fcb8a3564ff9da34e8b": {
      "model_module": "@jupyter-widgets/base",
      "model_module_version": "2.0.0",
      "model_name": "LayoutModel",
      "state": {
       "grid_area": "top"
      }
     },
     "65dc83efc0d3416fa6c277a21bfe91d9": {
      "model_module": "@jupyter-widgets/controls",
      "model_module_version": "2.0.0",
      "model_name": "HTMLStyleModel",
      "state": {
       "description_width": "",
       "font_size": null,
       "text_color": null
      }
     },
     "66275b6ace314a84a27dee95ac98763c": {
      "model_module": "@jupyter-widgets/base",
      "model_module_version": "2.0.0",
      "model_name": "LayoutModel",
      "state": {
       "grid_gap": "0px 0px",
       "grid_template_areas": "\n                                                   \"top top top\"\n                                                   \"left middle right\"\n                                                   ",
       "grid_template_columns": "33% 33% 33%",
       "grid_template_rows": "auto auto"
      }
     },
     "696ea6aeb3a041a3b379466cd3276588": {
      "model_module": "@jupyter-widgets/controls",
      "model_module_version": "2.0.0",
      "model_name": "HTMLStyleModel",
      "state": {
       "description_width": "",
       "font_size": null,
       "text_color": null
      }
     },
     "69a1c59f33c24a2eb7bc14d4c9afb1f6": {
      "model_module": "@jupyter-widgets/base",
      "model_module_version": "2.0.0",
      "model_name": "LayoutModel",
      "state": {
       "grid_area": "left",
       "width": "100%"
      }
     },
     "69b20e31fe884fbaa6cbb78c5ef77c70": {
      "model_module": "@jupyter-widgets/controls",
      "model_module_version": "2.0.0",
      "model_name": "HTMLStyleModel",
      "state": {
       "description_width": "",
       "font_size": null,
       "text_color": null
      }
     },
     "6d820c25ced145df88aa2597c8f8e522": {
      "model_module": "@jupyter-widgets/base",
      "model_module_version": "2.0.0",
      "model_name": "LayoutModel",
      "state": {
       "grid_area": "left"
      }
     },
     "748c9ea5de0844bab2570a36eed4560b": {
      "model_module": "@jupyter-widgets/base",
      "model_module_version": "2.0.0",
      "model_name": "LayoutModel",
      "state": {
       "grid_area": "right",
       "padding": "0px 0px 0px 0px",
       "width": "70px"
      }
     },
     "7710a5be7882497a9f9c6872fa3fbd5f": {
      "model_module": "@jupyter-widgets/base",
      "model_module_version": "2.0.0",
      "model_name": "LayoutModel",
      "state": {
       "margin": "0px 0px 0px 37px",
       "width": "600px"
      }
     },
     "77464dadae704376b516890881e9b683": {
      "model_module": "@jupyter-widgets/base",
      "model_module_version": "2.0.0",
      "model_name": "LayoutModel",
      "state": {
       "width": "190px"
      }
     },
     "7a9daec8e81646b8aa127ae88a17f099": {
      "model_module": "@jupyter-widgets/base",
      "model_module_version": "2.0.0",
      "model_name": "LayoutModel",
      "state": {
       "width": "70px"
      }
     },
     "7af7213d5dd04afb96af953b997f8ced": {
      "model_module": "@jupyter-widgets/controls",
      "model_module_version": "2.0.0",
      "model_name": "ButtonModel",
      "state": {
       "icon": "close",
       "layout": "IPY_MODEL_c32896bfa97b44d1a8f006eb1d9f706a",
       "style": "IPY_MODEL_da4ebeaa50864cd3ab96937ccd669c02",
       "tooltip": null
      }
     },
     "7cb85d5ca1e24c0e838b0bad84162eb5": {
      "model_module": "@jupyter-widgets/controls",
      "model_module_version": "2.0.0",
      "model_name": "VBoxModel",
      "state": {
       "children": [
        "IPY_MODEL_e92d249cc95c474e858b65935362e73a",
        "IPY_MODEL_fea4592ca6d3414f81b663325429d0f0"
       ],
       "layout": "IPY_MODEL_a79319bcc3c842d7a48657351886a455"
      }
     },
     "7d6123f5ee8d4ea0a68e95c4f44e0b41": {
      "model_module": "@jupyter-widgets/controls",
      "model_module_version": "2.0.0",
      "model_name": "HTMLStyleModel",
      "state": {
       "description_width": "",
       "font_size": null,
       "text_color": null
      }
     },
     "7dd3dec819404d5aadaf29c67f64e5f7": {
      "model_module": "@jupyter-widgets/base",
      "model_module_version": "2.0.0",
      "model_name": "LayoutModel",
      "state": {
       "width": "95px"
      }
     },
     "7ffa5f3656dd457b9f263987407c8928": {
      "model_module": "@jupyter-widgets/controls",
      "model_module_version": "2.0.0",
      "model_name": "HTMLStyleModel",
      "state": {
       "description_width": "",
       "font_size": null,
       "text_color": null
      }
     },
     "838ac48094f84df7896403287f08c55d": {
      "model_module": "@jupyter-widgets/controls",
      "model_module_version": "2.0.0",
      "model_name": "HTMLStyleModel",
      "state": {
       "description_width": "",
       "font_size": null,
       "text_color": null
      }
     },
     "8497c8bc8c0b4398bb5ce976cf48d885": {
      "model_module": "@jupyter-widgets/controls",
      "model_module_version": "2.0.0",
      "model_name": "ButtonModel",
      "state": {
       "button_style": "primary",
       "description": "Clear",
       "layout": "IPY_MODEL_748c9ea5de0844bab2570a36eed4560b",
       "style": "IPY_MODEL_f989985dae614a4288d38b498ca52af2",
       "tooltip": null
      }
     },
     "84dae469a0584edf95119c2522575836": {
      "model_module": "@jupyter-widgets/base",
      "model_module_version": "2.0.0",
      "model_name": "LayoutModel",
      "state": {
       "max_width": "700px",
       "min_width": "700px"
      }
     },
     "8abfe8eee8034459b30f93b0e252e942": {
      "model_module": "@jupyter-widgets/controls",
      "model_module_version": "2.0.0",
      "model_name": "HTMLMathStyleModel",
      "state": {
       "description_width": "",
       "font_size": null,
       "text_color": null
      }
     },
     "90f898df0c7446828119a56ac8f130db": {
      "model_module": "@jupyter-widgets/base",
      "model_module_version": "2.0.0",
      "model_name": "LayoutModel",
      "state": {
       "grid_template_areas": "\n                                       \". . . . right \"\n                                        ",
       "grid_template_columns": "20% 20% 20% 20% 20%",
       "width": "100%"
      }
     },
     "9270970e5ab74d07b5bc6475c2776ded": {
      "model_module": "@jupyter-widgets/base",
      "model_module_version": "2.0.0",
      "model_name": "LayoutModel",
      "state": {
       "grid_area": "middle"
      }
     },
     "9271c6771d194f5bb97f0bd3b7078c4e": {
      "model_module": "@jupyter-widgets/controls",
      "model_module_version": "2.0.0",
      "model_name": "HTMLModel",
      "state": {
       "layout": "IPY_MODEL_971c2fe8b3384eb9a557415fb16ead4e",
       "style": "IPY_MODEL_4fedb67922db437c8fbee5579d2aae81",
       "value": "job has successfully run"
      }
     },
     "971c2fe8b3384eb9a557415fb16ead4e": {
      "model_module": "@jupyter-widgets/base",
      "model_module_version": "2.0.0",
      "model_name": "LayoutModel",
      "state": {}
     },
     "9797be99458548fdbc8811e7b5368c2e": {
      "model_module": "@jupyter-widgets/controls",
      "model_module_version": "2.0.0",
      "model_name": "HTMLModel",
      "state": {
       "layout": "IPY_MODEL_77464dadae704376b516890881e9b683",
       "style": "IPY_MODEL_69b20e31fe884fbaa6cbb78c5ef77c70",
       "value": "<h5>Job ID</h5>"
      }
     },
     "a26926aeecf44a27908626b30fa99add": {
      "model_module": "@jupyter-widgets/base",
      "model_module_version": "2.0.0",
      "model_name": "LayoutModel",
      "state": {
       "margin": "0px 5px 0px 0px",
       "width": "32px"
      }
     },
     "a3842893d3264a1a8960b617436cf362": {
      "model_module": "@jupyter-widgets/controls",
      "model_module_version": "2.0.0",
      "model_name": "TabModel",
      "state": {
       "layout": "IPY_MODEL_212dfc5ef876412180a20b9fc72362b7"
      }
     },
     "a79319bcc3c842d7a48657351886a455": {
      "model_module": "@jupyter-widgets/base",
      "model_module_version": "2.0.0",
      "model_name": "LayoutModel",
      "state": {}
     },
     "a90bd2e70d9f444aaace5b5c16e67b23": {
      "model_module": "@jupyter-widgets/base",
      "model_module_version": "2.0.0",
      "model_name": "LayoutModel",
      "state": {
       "max_width": "700px",
       "min_width": "700px"
      }
     },
     "a91b119ec3c64793b2f6e06f93fc073a": {
      "model_module": "@jupyter-widgets/output",
      "model_module_version": "1.0.0",
      "model_name": "OutputModel",
      "state": {
       "layout": "IPY_MODEL_ac832380fdc04786ab1dc09bf71f7721",
       "outputs": [
        {
         "data": {
          "image/png": "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\n",
          "text/plain": "<Figure size 500x500 with 1 Axes>"
         },
         "metadata": {},
         "output_type": "display_data"
        }
       ]
      }
     },
     "aa9119dc682e49d48ccca52e29ab9238": {
      "model_module": "@jupyter-widgets/base",
      "model_module_version": "2.0.0",
      "model_name": "LayoutModel",
      "state": {
       "grid_area": "right"
      }
     },
     "ac832380fdc04786ab1dc09bf71f7721": {
      "model_module": "@jupyter-widgets/base",
      "model_module_version": "2.0.0",
      "model_name": "LayoutModel",
      "state": {
       "align_items": "center",
       "display": "flex-inline",
       "grid_area": "right",
       "max_height": "325px",
       "padding": "10px 10px 10px 10px",
       "width": "auto"
      }
     },
     "b091c57699cc48fd859cb1887336217b": {
      "model_module": "@jupyter-widgets/base",
      "model_module_version": "2.0.0",
      "model_name": "LayoutModel",
      "state": {}
     },
     "b3c462e27ec84cb79f57ba624b227689": {
      "model_module": "@jupyter-widgets/controls",
      "model_module_version": "2.0.0",
      "model_name": "HTMLStyleModel",
      "state": {
       "description_width": "",
       "font_size": null,
       "text_color": null
      }
     },
     "b430b4e46b81419cbfe0856daaa9adde": {
      "model_module": "@jupyter-widgets/base",
      "model_module_version": "2.0.0",
      "model_name": "LayoutModel",
      "state": {
       "grid_gap": "0px 0px",
       "grid_template_areas": "\n                               \"left right right right\"\n                               \"bottom bottom bottom bottom\"\n                               ",
       "grid_template_columns": "31% 23% 23% 23%",
       "grid_template_rows": "auto auto"
      }
     },
     "b43d8afe4f3148c6b89c3a852431a1ad": {
      "model_module": "@jupyter-widgets/base",
      "model_module_version": "2.0.0",
      "model_name": "LayoutModel",
      "state": {}
     },
     "b53a12e9c1354eb19ae5c72e4589dbd2": {
      "model_module": "@jupyter-widgets/base",
      "model_module_version": "2.0.0",
      "model_name": "LayoutModel",
      "state": {
       "margin": "0px 0px 10px 0px"
      }
     },
     "b8ef9b8d3240413a9281b51d255c886c": {
      "model_module": "@jupyter-widgets/controls",
      "model_module_version": "2.0.0",
      "model_name": "HTMLModel",
      "state": {
       "layout": "IPY_MODEL_ff38f429e92f472cabfc3d4280a838fe",
       "style": "IPY_MODEL_ba1ee53ae70d49fc81e801c5297da6fd",
       "value": "-"
      }
     },
     "ba1ee53ae70d49fc81e801c5297da6fd": {
      "model_module": "@jupyter-widgets/controls",
      "model_module_version": "2.0.0",
      "model_name": "HTMLStyleModel",
      "state": {
       "description_width": "",
       "font_size": null,
       "text_color": null
      }
     },
     "bffc0c82c243480eb60acf742eff2451": {
      "model_module": "@jupyter-widgets/base",
      "model_module_version": "2.0.0",
      "model_name": "LayoutModel",
      "state": {
       "align_items": "center",
       "display": "flex-inline"
      }
     },
     "c0174f9738c34a58bec3cd2c8f96b954": {
      "model_module": "@jupyter-widgets/base",
      "model_module_version": "2.0.0",
      "model_name": "LayoutModel",
      "state": {
       "width": "190px"
      }
     },
     "c32896bfa97b44d1a8f006eb1d9f706a": {
      "model_module": "@jupyter-widgets/base",
      "model_module_version": "2.0.0",
      "model_name": "LayoutModel",
      "state": {
       "margin": "0px 5px 0px 0px",
       "width": "32px"
      }
     },
     "c4cb529a8aa14258b198085a0155e781": {
      "model_module": "@jupyter-widgets/controls",
      "model_module_version": "2.0.0",
      "model_name": "HTMLModel",
      "state": {
       "layout": "IPY_MODEL_e99cc21462cc4ce086af14ceb5740f4a",
       "style": "IPY_MODEL_f8476376f43849d8b03863d2d1a7a8ff",
       "value": "<h5>Backend</h5>"
      }
     },
     "c4fe9078e1e84dc7800cd88f5d189fdf": {
      "model_module": "@jupyter-widgets/controls",
      "model_module_version": "2.0.0",
      "model_name": "HTMLModel",
      "state": {
       "layout": "IPY_MODEL_60b515cc3dd340cf8fc3cd2064462c83",
       "style": "IPY_MODEL_7ffa5f3656dd457b9f263987407c8928",
       "value": "<h5>Queue</h5>"
      }
     },
     "c71beca6b85d4cccb4ee2257020675da": {
      "model_module": "@jupyter-widgets/base",
      "model_module_version": "2.0.0",
      "model_name": "LayoutModel",
      "state": {}
     },
     "cb993ccacbd04c5e8d56a781a2683f11": {
      "model_module": "@jupyter-widgets/controls",
      "model_module_version": "2.0.0",
      "model_name": "HTMLStyleModel",
      "state": {
       "description_width": "",
       "font_size": null,
       "text_color": null
      }
     },
     "cd6293b78d5744d29d5ea794c91e164c": {
      "model_module": "@jupyter-widgets/base",
      "model_module_version": "2.0.0",
      "model_name": "LayoutModel",
      "state": {
       "grid_area": "bottom",
       "width": "auto"
      }
     },
     "d20f1809629f4072b3df90ee32d3e3b0": {
      "model_module": "@jupyter-widgets/controls",
      "model_module_version": "2.0.0",
      "model_name": "HTMLStyleModel",
      "state": {
       "description_width": "",
       "font_size": null,
       "text_color": null
      }
     },
     "d33a9b0f4ec14135b30b1a4a2a34c318": {
      "model_module": "@jupyter-widgets/base",
      "model_module_version": "2.0.0",
      "model_name": "LayoutModel",
      "state": {
       "width": "145px"
      }
     },
     "d33e879da5dd4b32890615a76bc29973": {
      "model_module": "@jupyter-widgets/controls",
      "model_module_version": "2.0.0",
      "model_name": "HTMLStyleModel",
      "state": {
       "description_width": "",
       "font_size": null,
       "text_color": null
      }
     },
     "d55e592ac27343c291090e3fc6e16253": {
      "model_module": "@jupyter-widgets/controls",
      "model_module_version": "2.0.0",
      "model_name": "HTMLModel",
      "state": {
       "layout": "IPY_MODEL_15e71fdf3fe846d8a3c0a6819455d1ad",
       "style": "IPY_MODEL_634e0a7f99334da98a04c20c48667f53",
       "value": "ibmq_qasm_simulator"
      }
     },
     "da4ebeaa50864cd3ab96937ccd669c02": {
      "model_module": "@jupyter-widgets/controls",
      "model_module_version": "2.0.0",
      "model_name": "ButtonStyleModel",
      "state": {
       "button_color": "white",
       "font_family": null,
       "font_size": null,
       "font_style": null,
       "font_variant": null,
       "font_weight": null,
       "text_color": null,
       "text_decoration": null
      }
     },
     "e19e346e4c6a49fb93e5bbc9d3e4a2e2": {
      "model_module": "@jupyter-widgets/controls",
      "model_module_version": "2.0.0",
      "model_name": "HTMLStyleModel",
      "state": {
       "description_width": "",
       "font_size": null,
       "text_color": null
      }
     },
     "e486adf656b7416da68f9288d768bd4d": {
      "model_module": "@jupyter-widgets/controls",
      "model_module_version": "2.0.0",
      "model_name": "HTMLModel",
      "state": {
       "layout": "IPY_MODEL_9270970e5ab74d07b5bc6475c2776ded",
       "style": "IPY_MODEL_fb9e715b47884426be97c3c5891e01c3",
       "value": "<table><style>\ntable {\n    border-collapse: collapse;\n    width: auto;\n}\n\nth, td {\n    text-align: left;\n    padding: 8px;\n}\n\ntr:nth-child(even) {background-color: #f6f6f6;};\n</style><tr><th></th><th>Type</th><th>Gate error</th></tr><tr><td><font style='font-weight:bold'>cx1_3</font></td><td>cx</td><td>0.00725</td></tr><tr><td><font style='font-weight:bold'>cx2_1</font></td><td>cx</td><td>0.00652</td></tr><tr><td><font style='font-weight:bold'>cx1_2</font></td><td>cx</td><td>0.00652</td></tr></table>"
      }
     },
     "e6c2fbece9d64acfa0c612cefacc5740": {
      "model_module": "@jupyter-widgets/base",
      "model_module_version": "2.0.0",
      "model_name": "LayoutModel",
      "state": {
       "border_bottom": "4px solid #000000",
       "border_left": "4px solid #000000",
       "border_right": "4px solid #000000",
       "border_top": "4px solid #000000",
       "max_height": "650px",
       "min_height": "650px"
      }
     },
     "e6c62de6b36f4bca963643a7f6da2488": {
      "model_module": "@jupyter-widgets/controls",
      "model_module_version": "2.0.0",
      "model_name": "GridBoxModel",
      "state": {
       "children": [
        "IPY_MODEL_141c9a1d38b54683b0bee6c1284db614",
        "IPY_MODEL_efbd9d5feb514b2585087c4887724edb",
        "IPY_MODEL_e486adf656b7416da68f9288d768bd4d",
        "IPY_MODEL_11621d3c562a42daa2d812a57f10c231"
       ],
       "layout": "IPY_MODEL_66275b6ace314a84a27dee95ac98763c"
      }
     },
     "e92d249cc95c474e858b65935362e73a": {
      "model_module": "@jupyter-widgets/controls",
      "model_module_version": "2.0.0",
      "model_name": "HTMLModel",
      "state": {
       "layout": "IPY_MODEL_c71beca6b85d4cccb4ee2257020675da",
       "style": "IPY_MODEL_d20f1809629f4072b3df90ee32d3e3b0",
       "value": "<div><font style='font-weight:bold'>last_update_date</font>: Fri 15 September 2023 at 04:18 UTC</div>"
      }
     },
     "e99cc21462cc4ce086af14ceb5740f4a": {
      "model_module": "@jupyter-widgets/base",
      "model_module_version": "2.0.0",
      "model_name": "LayoutModel",
      "state": {
       "width": "145px"
      }
     },
     "efbd9d5feb514b2585087c4887724edb": {
      "model_module": "@jupyter-widgets/controls",
      "model_module_version": "2.0.0",
      "model_name": "HTMLModel",
      "state": {
       "layout": "IPY_MODEL_6d820c25ced145df88aa2597c8f8e522",
       "style": "IPY_MODEL_65dc83efc0d3416fa6c277a21bfe91d9",
       "value": "<table><style>\ntable {\n    border-collapse: collapse;\n    width: auto;\n}\n\nth, td {\n    text-align: left;\n    padding: 8px;\n}\n\ntr:nth-child(even) {background-color: #f6f6f6;};\n</style><tr><th></th><th>Type</th><th>Gate error</th></tr><tr><td><font style='font-weight:bold'>cx4_3</font></td><td>cx</td><td>0.00899</td></tr><tr><td><font style='font-weight:bold'>cx3_4</font></td><td>cx</td><td>0.00899</td></tr><tr><td><font style='font-weight:bold'>cx3_1</font></td><td>cx</td><td>0.00725</td></tr></table>"
      }
     },
     "efc13b6dc528402a868ccc8c0e1533be": {
      "model_module": "@jupyter-widgets/controls",
      "model_module_version": "2.0.0",
      "model_name": "HTMLStyleModel",
      "state": {
       "description_width": "",
       "font_size": null,
       "text_color": null
      }
     },
     "f227519f2a874fa198ede492dd9f83ae": {
      "model_module": "@jupyter-widgets/output",
      "model_module_version": "1.0.0",
      "model_name": "OutputModel",
      "state": {
       "layout": "IPY_MODEL_bffc0c82c243480eb60acf742eff2451",
       "outputs": [
        {
         "data": {
          "image/png": "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\n",
          "text/plain": "<Figure size 1100x900 with 5 Axes>"
         },
         "metadata": {},
         "output_type": "display_data"
        }
       ]
      }
     },
     "f2e02c783a484fa0a4b5daa66f78cae0": {
      "model_module": "@jupyter-widgets/controls",
      "model_module_version": "2.0.0",
      "model_name": "HTMLStyleModel",
      "state": {
       "description_width": "",
       "font_size": null,
       "text_color": null
      }
     },
     "f5e43b58c73d4507a87516dc04604ec6": {
      "model_module": "@jupyter-widgets/controls",
      "model_module_version": "2.0.0",
      "model_name": "HTMLModel",
      "state": {
       "layout": "IPY_MODEL_4291fe5872ab45f0916e517d6c043f7f",
       "style": "IPY_MODEL_f2e02c783a484fa0a4b5daa66f78cae0",
       "value": "<h5>Status</h5>"
      }
     },
     "f804fed4a8b34b8d95f77f139cd4d00f": {
      "model_module": "@jupyter-widgets/controls",
      "model_module_version": "2.0.0",
      "model_name": "ButtonStyleModel",
      "state": {
       "button_color": "white",
       "font_family": null,
       "font_size": null,
       "font_style": null,
       "font_variant": null,
       "font_weight": null,
       "text_color": null,
       "text_decoration": null
      }
     },
     "f8476376f43849d8b03863d2d1a7a8ff": {
      "model_module": "@jupyter-widgets/controls",
      "model_module_version": "2.0.0",
      "model_name": "HTMLStyleModel",
      "state": {
       "description_width": "",
       "font_size": null,
       "text_color": null
      }
     },
     "f989985dae614a4288d38b498ca52af2": {
      "model_module": "@jupyter-widgets/controls",
      "model_module_version": "2.0.0",
      "model_name": "ButtonStyleModel",
      "state": {
       "font_family": null,
       "font_size": null,
       "font_style": null,
       "font_variant": null,
       "font_weight": null,
       "text_color": null,
       "text_decoration": null
      }
     },
     "fb42fd8905da48ddad5c9449868510ec": {
      "model_module": "@jupyter-widgets/controls",
      "model_module_version": "2.0.0",
      "model_name": "HTMLStyleModel",
      "state": {
       "description_width": "",
       "font_size": null,
       "text_color": null
      }
     },
     "fb9e715b47884426be97c3c5891e01c3": {
      "model_module": "@jupyter-widgets/controls",
      "model_module_version": "2.0.0",
      "model_name": "HTMLStyleModel",
      "state": {
       "description_width": "",
       "font_size": null,
       "text_color": null
      }
     },
     "fea4592ca6d3414f81b663325429d0f0": {
      "model_module": "@jupyter-widgets/controls",
      "model_module_version": "2.0.0",
      "model_name": "HTMLModel",
      "state": {
       "layout": "IPY_MODEL_b091c57699cc48fd859cb1887336217b",
       "style": "IPY_MODEL_838ac48094f84df7896403287f08c55d",
       "value": "<table><style>\ntable {\n    border-collapse: collapse;\n    width: auto;\n}\n\nth, td {\n    text-align: left;\n    padding: 8px;\n}\n\ntr:nth-child(even) {background-color: #f6f6f6;}\n</style><tr><th></th><th>Frequency</th><th>T1</th><th>T2</th><th>RZ</th><th>SX</th><th>X</th><th>Readout error</th></tr><tr><td><font style='font-weight:bold'>Q0</font></td><td>5.09023 GHz</td><td>97.48632 us</td><td>111.20382 us</td><td>0</td><td>0.00025</td><td>0.00025</td><td>0.0315 </td><tr><td><font style='font-weight:bold'>Q1</font></td><td>5.24554 GHz</td><td>101.51702 us</td><td>153.31058 us</td><td>0</td><td>0.00042</td><td>0.00042</td><td>0.0187 </td><tr><td><font style='font-weight:bold'>Q2</font></td><td>5.36149 GHz</td><td>100.68857 us</td><td>55.45472 us</td><td>0</td><td>0.00017</td><td>0.00017</td><td>0.0174 </td><tr><td><font style='font-weight:bold'>Q3</font></td><td>5.17033 GHz</td><td>98.01363 us</td><td>140.23271 us</td><td>0</td><td>0.00023</td><td>0.00023</td><td>0.0259 </td><tr><td><font style='font-weight:bold'>Q4</font></td><td>5.25847 GHz</td><td>91.22664 us</td><td>95.34227 us</td><td>0</td><td>0.00056</td><td>0.00056</td><td>0.033 </td></table>"
      }
     },
     "ff38f429e92f472cabfc3d4280a838fe": {
      "model_module": "@jupyter-widgets/base",
      "model_module_version": "2.0.0",
      "model_name": "LayoutModel",
      "state": {
       "width": "70px"
      }
     }
    },
    "version_major": 2,
    "version_minor": 0
   }
  }
 },
 "nbformat": 4,
 "nbformat_minor": 5
}
